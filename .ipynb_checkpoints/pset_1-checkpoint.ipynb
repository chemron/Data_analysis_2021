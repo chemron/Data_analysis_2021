{
 "cells": [
  {
   "cell_type": "markdown",
   "metadata": {},
   "source": [
    "# Problem Set 1\n",
    "### Cameron Smith"
   ]
  },
  {
   "cell_type": "code",
   "execution_count": 1,
   "metadata": {},
   "outputs": [
    {
     "ename": "ModuleNotFoundError",
     "evalue": "No module named 'emcee'",
     "output_type": "error",
     "traceback": [
      "\u001b[0;31m---------------------------------------------------------------------------\u001b[0m",
      "\u001b[0;31mModuleNotFoundError\u001b[0m                       Traceback (most recent call last)",
      "\u001b[0;32m<ipython-input-1-67bfc5c31430>\u001b[0m in \u001b[0;36m<module>\u001b[0;34m\u001b[0m\n\u001b[1;32m      3\u001b[0m \u001b[0;32mfrom\u001b[0m \u001b[0mmatplotlib\u001b[0m\u001b[0;34m.\u001b[0m\u001b[0mticker\u001b[0m \u001b[0;32mimport\u001b[0m \u001b[0mMaxNLocator\u001b[0m\u001b[0;34m\u001b[0m\u001b[0;34m\u001b[0m\u001b[0m\n\u001b[1;32m      4\u001b[0m \u001b[0;32mimport\u001b[0m \u001b[0mscipy\u001b[0m\u001b[0;34m.\u001b[0m\u001b[0moptimize\u001b[0m \u001b[0;32mas\u001b[0m \u001b[0mop\u001b[0m\u001b[0;34m\u001b[0m\u001b[0;34m\u001b[0m\u001b[0m\n\u001b[0;32m----> 5\u001b[0;31m \u001b[0;32mimport\u001b[0m \u001b[0memcee\u001b[0m\u001b[0;34m\u001b[0m\u001b[0;34m\u001b[0m\u001b[0m\n\u001b[0m\u001b[1;32m      6\u001b[0m \u001b[0;32mfrom\u001b[0m \u001b[0mcorner\u001b[0m \u001b[0;32mimport\u001b[0m \u001b[0mcorner\u001b[0m\u001b[0;34m\u001b[0m\u001b[0;34m\u001b[0m\u001b[0m\n",
      "\u001b[0;31mModuleNotFoundError\u001b[0m: No module named 'emcee'"
     ]
    }
   ],
   "source": [
    "import numpy as np\n",
    "import matplotlib.pyplot as plt\n",
    "from matplotlib.ticker import MaxNLocator\n",
    "import scipy.optimize as op\n",
    "import emcee\n",
    "from corner import corner"
   ]
  },
  {
   "cell_type": "markdown",
   "metadata": {},
   "source": [
    "Load in Data:"
   ]
  },
  {
   "cell_type": "code",
   "execution_count": null,
   "metadata": {},
   "outputs": [],
   "source": [
    "_, x, y, y_err, x_err, rho_xy = data = np.array([\n",
    "    [1,  201, 592, 61,  9, -0.84],\n",
    "    [2,  244, 401, 25,  4, +0.31],\n",
    "    [3,   47, 583, 38, 11, +0.64],\n",
    "    [4,  287, 402, 15,  7, -0.27],\n",
    "    [5,  203, 495, 21,  5, -0.33],\n",
    "    [6,   58, 173, 15,  9, +0.67],\n",
    "    [7,  210, 479, 27,  4, -0.02],\n",
    "    [8,  202, 504, 14,  4, -0.05],\n",
    "    [9,  198, 510, 30, 11, -0.84],\n",
    "    [10, 158, 416, 16,  7, -0.69],\n",
    "    [11, 165, 393, 14,  5, +0.30],\n",
    "    [12, 201, 442, 25,  5, -0.46],\n",
    "    [13, 157, 317, 52,  5, -0.03],\n",
    "    [14, 131, 311, 16,  6, +0.50],\n",
    "    [15, 166, 400, 34,  6, +0.73],\n",
    "    [16, 160, 337, 31,  5, -0.52],\n",
    "    [17, 186, 423, 42,  9, +0.90],\n",
    "    [18, 125, 334, 26,  8, +0.40],\n",
    "    [19, 218, 533, 16,  6, -0.78],\n",
    "    [20, 146, 344, 22,  5, -0.56],\n",
    "]).T"
   ]
  },
  {
   "cell_type": "markdown",
   "metadata": {},
   "source": [
    "## Question 1"
   ]
  },
  {
   "cell_type": "markdown",
   "metadata": {},
   "source": [
    "We have a model given by:\n",
    "$$ y_i \\sim \\mathcal{N}(mx_i+b,\\sigma_{y_i}) \\quad .$$"
   ]
  },
  {
   "cell_type": "markdown",
   "metadata": {},
   "source": [
    "i.e. a normal distribution centered at $y_i = m x_i$ with a standard deviation: $\\sigma_{y_i}$, for each $i \\in \\{1, ..., n\\} $"
   ]
  },
  {
   "cell_type": "markdown",
   "metadata": {},
   "source": [
    "To convert this to matrix form, we first, we define the following matrices"
   ]
  },
  {
   "cell_type": "markdown",
   "metadata": {},
   "source": [
    "$$\n",
    "\\mathbf{Y} = \\left[\\begin{array}{c}\n",
    "            y_{1} \\\\\n",
    "            y_{2} \\\\\n",
    "            \\cdots \\\\\n",
    "            y_N \\end{array}\\right]\\\\\n",
    "\\mathbf{A} = \\left[\\begin{array}{cc}\n",
    "        1 & x_1 \\\\\n",
    "        1 & x_2 \\\\\n",
    "        1 & \\cdots \\\\\n",
    "        1 & x_N\n",
    "        \\end{array}\\right]\\\\        \n",
    "\\mathbf{C} = \\left[\\begin{array}{cccc}\n",
    "        \\sigma_{y1}^2 & 0 & \\cdots & 0 \\\\\n",
    "        0 & \\sigma_{y2}^2 & \\cdots & 0 \\\\\n",
    "        0 & 0 & \\ddots & 0 \\\\\n",
    "        0 & 0 & \\cdots & \\sigma_{yN}^2 \n",
    "        \\end{array}\\right] \\\\        \n",
    "$$"
   ]
  },
  {
   "cell_type": "markdown",
   "metadata": {},
   "source": [
    "$$\n",
    "\\mathbf{X} = \\left[\\begin{array}{c} b \\\\ m \\end{array}\\right]\n",
    "$$"
   ]
  },
  {
   "cell_type": "markdown",
   "metadata": {},
   "source": [
    "Where, $\\mathbf{A}$ is the design matrix and $\\mathbf{C}$ is the covariance matrix. Note that based on our model, each point $y_i$ depends only on $\\sigma_{y_i}$, i.e. there are no covariences, and therfore no off-diagonal components on the covarience matrix. Our line equation ($y_i = m x_i$) is therefore given by "
   ]
  },
  {
   "cell_type": "markdown",
   "metadata": {},
   "source": [
    "$$\n",
    "        \\mathbf{Y} = \\mathbf{A}\\mathbf{X} \\quad .\n",
    "$$"
   ]
  },
  {
   "cell_type": "markdown",
   "metadata": {},
   "source": [
    "This is overconstrained however, and so we must weight each datapoint with the covarience matrix:"
   ]
  },
  {
   "cell_type": "markdown",
   "metadata": {},
   "source": [
    "$$\n",
    "\\newcommand{\\transpose}{^{\\scriptscriptstyle \\top}}\n",
    "\\begin{array}{rcl}\n",
    "\\mathbf{Y} &=& \\mathbf{AX} \\\\\n",
    "\\mathbf{C}^{-1}\\mathbf{Y} &=& \\mathbf{C}^{-1}\\mathbf{AX} \\\\\n",
    "\\mathbf{A}\\transpose\\mathbf{C}^{-1}\\mathbf{Y} &=& \\mathbf{A}\\transpose\\mathbf{C}^{-1}\\mathbf{AX} \\\\\n",
    "\\left[\\mathbf{A}\\transpose\\mathbf{C}^{-1}\\mathbf{Y}\\right] &=& \\left[\\mathbf{A}\\transpose\\mathbf{C}^{-1}\\mathbf{A}\\right]\\mathbf{X}\n",
    "\\end{array}\n",
    "$$"
   ]
  },
  {
   "cell_type": "markdown",
   "metadata": {},
   "source": [
    "And so the best fit values for $\\mathbf{X}$ are:"
   ]
  },
  {
   "cell_type": "markdown",
   "metadata": {},
   "source": [
    "$$\n",
    "\\newcommand{\\transpose}{^{\\scriptscriptstyle \\top}}\n",
    "\\mathbf{X} = \\left[\\mathbf{A}\\transpose\\mathbf{C}^{-1}\\mathbf{A}\\right]^{-1}\\left[\\mathbf{A}\\transpose\\mathbf{C}^{-1}\\mathbf{Y}\\right] \\quad .\n",
    "$$\n"
   ]
  },
  {
   "cell_type": "code",
   "execution_count": null,
   "metadata": {},
   "outputs": [],
   "source": [
    "#TODO: expand on this:"
   ]
  },
  {
   "cell_type": "markdown",
   "metadata": {},
   "source": [
    "$$ \n",
    "            \\newcommand{\\transpose}{^{\\scriptscriptstyle \\top}}\n",
    "            \\chi^2 = \\sum_{i=1}^{N} \\frac{\\left[y_{i} - f(x_i)\\right]^2}{\\sigma_{yi}^2} \\quad \\equiv \\quad \\left[\\mathbf{Y}-\\mathbf{AX}\\right]\\transpose\\mathbf{C}^{-1}\\left[\\mathbf{Y} - \\mathbf{AX}\\right] \\quad .\n",
    "$$"
   ]
  },
  {
   "cell_type": "markdown",
   "metadata": {},
   "source": [
    "## Question 2"
   ]
  },
  {
   "cell_type": "code",
   "execution_count": null,
   "metadata": {},
   "outputs": [],
   "source": []
  },
  {
   "cell_type": "markdown",
   "metadata": {},
   "source": [
    "## Question 5"
   ]
  },
  {
   "cell_type": "code",
   "execution_count": null,
   "metadata": {},
   "outputs": [],
   "source": [
    "fig, ax = plt.subplots(figsize=(4, 4))\n",
    "    \n",
    "ax.scatter(x, y, c=\"k\", s=10)\n",
    "ax.errorbar(x, y,\n",
    "            xerr=x_err, yerr=y_err, \n",
    "            fmt=\"o\", lw=1, c=\"k\")\n",
    "ax.set_xlim(0, 300)\n",
    "ax.set_ylim(0, 700)\n",
    "ax.set_xlabel(r\"$x$\")\n",
    "ax.set_ylabel(r\"$y$\")\n",
    "    \n",
    "ax.xaxis.set_major_locator(MaxNLocator(6))\n",
    "ax.yaxis.set_major_locator(MaxNLocator(7))\n",
    "    \n",
    "fig.tight_layout()"
   ]
  },
  {
   "cell_type": "code",
   "execution_count": null,
   "metadata": {},
   "outputs": [],
   "source": [
    "def ln_prior(theta):\n",
    "    b, m, ln_lambda = theta\n",
    "    # p(ln_lambda) ~ U(-10, 10)\n",
    "    if ln_lambda > 10 or ln_lambda < -10:\n",
    "        return -np.inf\n",
    "    return -3/2 * np.log(1 + m**2)\n",
    "\n",
    "def ln_likelihood(theta, x, y, C):\n",
    "    b, m, ln_lambda = theta\n",
    "    \n",
    "    # projection vector: vector orthogonal to line\n",
    "    V = np.array([[-m, 1]]).T\n",
    "\n",
    "    # orthogonal projection matrix\n",
    "    intrinsic_variance = np.exp(ln_lambda)**2\n",
    "    Lambda = (intrinsic_variance / (1 + m**2)) * np.array([\n",
    "        [m**2, -m],\n",
    "        [-m,    1]\n",
    "    ])\n",
    "\n",
    "    Delta = (y - m * x - b)\n",
    "    Sigma = (V.T @ (C + Lambda) @ V).flatten()\n",
    "\n",
    "    # Drop constant terms out the front\n",
    "    return np.sum(-np.log(Sigma) - 0.5 * Delta**2 / Sigma)\n",
    "\n",
    "def ln_probability(theta, x, y, C):\n",
    "    lp = ln_prior(theta)\n",
    "    if not np.isfinite(lp):\n",
    "        return lp\n",
    "    return lp + ln_likelihood(theta, x, y, C)\n",
    "\n",
    "\n",
    "# calculate inverse variance for use later\n",
    "xy_ivar = 1/(x_err**2 + y_err**2)\n",
    "# covariance matrix:\n",
    "\n",
    "covs = np.array([[[x_e**2, 0],\n",
    "                  [0, y_e**2]] for y_e, x_e in zip(y_err, x_err)])\n",
    "\n",
    "\n",
    "# get linalg solution to initialise\n",
    "Y = np.atleast_2d(y).T\n",
    "\n",
    "A = np.vstack([np.ones_like(x), x]).T\n",
    "C = np.diag(y_err * y_err)\n",
    "\n",
    "C_inv = np.linalg.inv(C)\n",
    "G = np.linalg.inv(A.T @ C_inv @ A)\n",
    "X = G @ (A.T @ C_inv @ Y)\n",
    "\n",
    "initial_theta = X.T[0]\n",
    "args = (x, y, xy_ivar)\n",
    "\n",
    "\n",
    "\n",
    "# assume ln_lambda = -3 for initialisation\n",
    "args = (x, y, covs)\n",
    "initial_theta = np.hstack([X.T[0], -3])\n",
    "\n",
    "# Optimize!\n",
    "result = op.minimize(lambda *args: -ln_probability(*args),\n",
    "                     initial_theta,\n",
    "                     args=args,\n",
    "                     method=\"L-BFGS-B\",\n",
    "                     bounds=[(None, None), (None, None), (-10, 10)])\n",
    "\n",
    "# Sample!\n",
    "ndim, nwalkers = (result.x.size, 32)\n",
    "p0 = [result.x + 1e-5 * np.random.randn(ndim) for k in range(nwalkers)]\n",
    "\n",
    "sampler = emcee.EnsembleSampler(\n",
    "    nwalkers, \n",
    "    ndim,\n",
    "    ln_probability,\n",
    "    args=args\n",
    ")\n",
    "\n",
    "# Run the burn-in.\n",
    "pos, *_ = sampler.run_mcmc(p0, 500)\n",
    "sampler.reset()\n",
    "\n",
    "# Run production.\n",
    "sampler.run_mcmc(pos, 1000)\n",
    "\n",
    "# Make a corner plot.\n",
    "chain = sampler.chain.reshape((-1, ndim))\n",
    "\n",
    "fig = corner(\n",
    "    chain,\n",
    "    labels=(r\"$b$\", r\"$m$\", r\"$\\log{\\lambda}$\")\n",
    ")\n",
    "\n",
    "# Show the linear algebra solution in blue for comparison.\n",
    "ax = fig.axes[3]\n",
    "ax.scatter(*X.T[0],\n",
    "           s=20,\n",
    "           facecolor=\"tab:blue\",\n",
    "           zorder=100)\n",
    "ax.add_artist(_ellipse(*X.T[0], G,\n",
    "                       scale=3, lw=0, alpha=0.5,\n",
    "                       facecolor=\"tab:blue\",\n",
    "                       color=\"tab:blue\",\n",
    "                       zorder=10))\n",
    "ax.add_artist(_ellipse(*X.T[0], G,\n",
    "                       scale=3, lw=2, \n",
    "                       facecolor=\"none\",\n",
    "                       color=\"tab:blue\",\n",
    "                       zorder=60))\n",
    "\n",
    "\n",
    "\n",
    "# Make posterior predictions.\n",
    "fig, ax = plt.subplots(figsize=(4, 4))\n",
    "    \n",
    "ax.scatter(x, y, c=\"k\", s=10)\n",
    "for xi, yi, cov in zip(x, y, covs):\n",
    "    ax.add_artist(_ellipse(xi, yi, cov, scale=2, color=\"k\"))\n",
    "\n",
    "xlim = np.array([0, 300])\n",
    "ax.set_xlabel(r\"$x$\")\n",
    "ax.set_ylabel(r\"$y$\")\n",
    "    \n",
    "ax.xaxis.set_major_locator(MaxNLocator(6))\n",
    "ax.yaxis.set_major_locator(MaxNLocator(7))\n",
    "    \n",
    "# Plot draws of the posterior.\n",
    "for index in np.random.choice(chain.shape[0], size=100):\n",
    "    b, m, ln_lambda = chain[index]\n",
    "    ax.plot(\n",
    "        xlim,\n",
    "        m * xlim + b,\n",
    "        \"-\",\n",
    "        c=\"tab:purple\",\n",
    "        alpha=0.2,\n",
    "        lw=0.5,\n",
    "        zorder=-1\n",
    "    )\n",
    "\n",
    "ax.set_xlim(*xlim)\n",
    "ax.set_ylim(0, 700)\n",
    "\n",
    "fig.tight_layout()\n"
   ]
  },
  {
   "cell_type": "code",
   "execution_count": null,
   "metadata": {},
   "outputs": [],
   "source": []
  }
 ],
 "metadata": {
  "kernelspec": {
   "display_name": "Python 3",
   "language": "python",
   "name": "python3"
  },
  "language_info": {
   "codemirror_mode": {
    "name": "ipython",
    "version": 3
   },
   "file_extension": ".py",
   "mimetype": "text/x-python",
   "name": "python",
   "nbconvert_exporter": "python",
   "pygments_lexer": "ipython3",
   "version": "3.8.5"
  }
 },
 "nbformat": 4,
 "nbformat_minor": 4
}
