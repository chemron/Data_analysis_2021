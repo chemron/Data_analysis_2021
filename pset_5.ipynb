{
  "nbformat": 4,
  "nbformat_minor": 0,
  "metadata": {
    "colab": {
      "name": "pset_5.ipynb",
      "provenance": [],
      "collapsed_sections": []
    },
    "kernelspec": {
      "name": "python3",
      "display_name": "Python 3"
    },
    "language_info": {
      "name": "python"
    }
  },
  "cells": [
    {
      "cell_type": "markdown",
      "metadata": {
        "id": "Oo8f6XqyG69K"
      },
      "source": [
        "# Problem Set 5\n",
        "#### Cameron Smith"
      ]
    },
    {
      "cell_type": "code",
      "metadata": {
        "colab": {
          "base_uri": "https://localhost:8080/",
          "height": 0
        },
        "id": "RWa11-sGHc60",
        "outputId": "01be18b5-4595-48c9-946a-9a749ddf019a"
      },
      "source": [
        "!pip install daft==0.1.2\n",
        "import csv\n",
        "import urllib.request as request\n",
        "import numpy as np\n",
        "from sklearn.model_selection import train_test_split\n",
        "import matplotlib.pyplot as plt\n",
        "from matplotlib.ticker import MaxNLocator\n",
        "from matplotlib.colors import ListedColormap\n",
        "from matplotlib import rc\n",
        "import daft\n",
        "from scipy.optimize import check_grad\n",
        "import torch\n",
        "np.random.seed(2)\n",
        "torch.manual_seed(0)"
      ],
      "execution_count": 1,
      "outputs": [
        {
          "output_type": "stream",
          "text": [
            "Requirement already satisfied: daft==0.1.2 in /usr/local/lib/python3.7/dist-packages (0.1.2)\n",
            "Requirement already satisfied: matplotlib in /usr/local/lib/python3.7/dist-packages (from daft==0.1.2) (3.2.2)\n",
            "Requirement already satisfied: setuptools in /usr/local/lib/python3.7/dist-packages (from daft==0.1.2) (56.1.0)\n",
            "Requirement already satisfied: numpy in /usr/local/lib/python3.7/dist-packages (from daft==0.1.2) (1.19.5)\n",
            "Requirement already satisfied: pyparsing!=2.0.4,!=2.1.2,!=2.1.6,>=2.0.1 in /usr/local/lib/python3.7/dist-packages (from matplotlib->daft==0.1.2) (2.4.7)\n",
            "Requirement already satisfied: python-dateutil>=2.1 in /usr/local/lib/python3.7/dist-packages (from matplotlib->daft==0.1.2) (2.8.1)\n",
            "Requirement already satisfied: cycler>=0.10 in /usr/local/lib/python3.7/dist-packages (from matplotlib->daft==0.1.2) (0.10.0)\n",
            "Requirement already satisfied: kiwisolver>=1.0.1 in /usr/local/lib/python3.7/dist-packages (from matplotlib->daft==0.1.2) (1.3.1)\n",
            "Requirement already satisfied: six>=1.5 in /usr/local/lib/python3.7/dist-packages (from python-dateutil>=2.1->matplotlib->daft==0.1.2) (1.15.0)\n"
          ],
          "name": "stdout"
        },
        {
          "output_type": "execute_result",
          "data": {
            "text/plain": [
              "<torch._C.Generator at 0x7f4f87b49810>"
            ]
          },
          "metadata": {
            "tags": []
          },
          "execution_count": 1
        }
      ]
    },
    {
      "cell_type": "markdown",
      "metadata": {
        "id": "jgyRJ5hEHd91"
      },
      "source": [
        "## Question 1"
      ]
    },
    {
      "cell_type": "markdown",
      "metadata": {
        "id": "zL78r_nxH-XK"
      },
      "source": [
        "First, let's get the data:"
      ]
    },
    {
      "cell_type": "code",
      "metadata": {
        "id": "FQ4Kp8s3GzzM"
      },
      "source": [
        "url = \"http://astrowizici.st/teaching/phs5000/ps5_data.csv\"\n",
        "response = request.urlopen(url)\n",
        "lines = [l.decode('utf-8') for l in response.readlines()]\n",
        "cr = csv.reader(lines)\n",
        "cr_data = list(cr)\n",
        "data = np.array(cr_data[1:])\n",
        "data = data.astype(np.float)"
      ],
      "execution_count": 2,
      "outputs": []
    },
    {
      "cell_type": "markdown",
      "metadata": {
        "id": "L1v4JvDjNYdq"
      },
      "source": [
        "Get each column of data"
      ]
    },
    {
      "cell_type": "code",
      "metadata": {
        "id": "odVZJxVJLYJK"
      },
      "source": [
        "x_1, x_2, classification = data.T"
      ],
      "execution_count": 3,
      "outputs": []
    },
    {
      "cell_type": "code",
      "metadata": {
        "colab": {
          "base_uri": "https://localhost:8080/",
          "height": 283
        },
        "id": "XemkoPVKKZhG",
        "outputId": "d53dd7dd-6977-4dae-e58d-c811b0f8b5c7"
      },
      "source": [
        "cmap=ListedColormap(['r', 'g'])\n",
        "scatter = plt.scatter(x_1, x_2, c=classification, cmap=cmap)\n",
        "plt.xlabel(r\"$X_1$\")\n",
        "plt.ylabel(r\"$X_2$\")\n",
        "plt.legend(*scatter.legend_elements(num=1))\n",
        "plt.show()"
      ],
      "execution_count": 4,
      "outputs": [
        {
          "output_type": "display_data",
          "data": {
            "image/png": "[encoded data removed]",
            "text/plain": [
              "<Figure size 432x288 with 1 Axes>"
            ]
          },
          "metadata": {
            "tags": [],
            "needs_background": "light"
          }
        }
      ]
    },
    {
      "cell_type": "markdown",
      "metadata": {
        "id": "EE2hwu3lTWYf"
      },
      "source": [
        "Now we draw our network"
      ]
    },
    {
      "cell_type": "code",
      "metadata": {
        "colab": {
          "base_uri": "https://localhost:8080/",
          "height": 484
        },
        "id": "orsdDAfeNr_y",
        "outputId": "bcd5ad37-7ff8-43dc-dc57-0701f291b8b1"
      },
      "source": [
        "rc(\"font\", family=\"serif\", size=12)\n",
        "rc(\"text\", usetex=False)\n",
        "\n",
        "pgm = daft.PGM(dpi=150)\n",
        "\n",
        "pgm.add_node('b1', r\"$b_1$\", 0, 3)\n",
        "pgm.add_node('x1', r\"$x_1$\", 0, 2)\n",
        "pgm.add_node('x2', r\"$x_2$\", 0, 1)\n",
        "\n",
        "\n",
        "pgm.add_node('b2', r\"$b_2$\", 2, 3.5)\n",
        "pgm.add_node('h1', r\"$h_1$\", 2, 2.5)\n",
        "pgm.add_node('h2', r\"$h_2$\", 2, 1.5)\n",
        "pgm.add_node('h3', r\"$h_3$\", 2, 0.5)\n",
        "\n",
        "pgm.add_node('c', r\"y\", 4, 2)\n",
        "\n",
        "# edges\n",
        "pgm.add_edge(\"b1\", \"h1\", label=r'$w_1$', xoffset=-1)\n",
        "pgm.add_edge(\"x1\", \"h1\", label=r'$w_4$', xoffset=-1, yoffset=-0.5)\n",
        "pgm.add_edge(\"x2\", \"h1\", label=r'$w_7$', xoffset=-1,  yoffset=-1)\n",
        "\n",
        "pgm.add_edge(\"b1\", \"h2\", label=r'$w_2$', xoffset=-1, yoffset=0.5)\n",
        "pgm.add_edge(\"x1\", \"h2\", label=r'$w_5$', xoffset=-1, yoffset=0)\n",
        "pgm.add_edge(\"x2\", \"h2\", label=r'$w_8$', xoffset=-1, yoffset=-0.5)\n",
        "\n",
        "pgm.add_edge(\"b1\", \"h3\", label=r'$w_3$', xoffset=-1, yoffset=1)\n",
        "pgm.add_edge(\"x1\", \"h3\", label=r'$w_6$', xoffset=-1, yoffset=0.5)\n",
        "pgm.add_edge(\"x2\", \"h3\", label=r'$w_9$', xoffset=-1)\n",
        "\n",
        "pgm.add_edge(\"b2\", \"c\", label=r'$w_{10}$')\n",
        "pgm.add_edge(\"h1\", \"c\", label=r'$w_{11}$')\n",
        "pgm.add_edge(\"h2\", \"c\", label=r'$w_{12}$')\n",
        "pgm.add_edge(\"h3\", \"c\", label=r'$w_{13}$')\n",
        "\n",
        "pgm.render();"
      ],
      "execution_count": 5,
      "outputs": [
        {
          "output_type": "display_data",
          "data": {
            "image/png": "[encoded data removed]",
            "text/plain": [
              "<Figure size 555.118x437.008 with 1 Axes>"
            ]
          },
          "metadata": {
            "tags": []
          }
        }
      ]
    },
    {
      "cell_type": "markdown",
      "metadata": {
        "id": "JviIQZRJrB4b"
      },
      "source": [
        "Where $b_1 = b_2 = 1$ and sigmoid activation is used for each neuron."
      ]
    },
    {
      "cell_type": "markdown",
      "metadata": {
        "id": "jqZUs3Rvp_Wh"
      },
      "source": [
        "We have the loss function:\n",
        "$$\n",
        "E = \\frac{1}{2}\\sum_{i}^{N}(y_i - y_{\\textrm{pred},i})^2\n",
        "$$"
      ]
    },
    {
      "cell_type": "markdown",
      "metadata": {
        "id": "YENiI1l8raqP"
      },
      "source": [
        "We therefore have:\n",
        "$$\n",
        "y_{\\textrm{pred},i} = f(\\alpha_4)\n",
        "$$\n",
        "where\n",
        "$$\n",
        "\\alpha_4 = w_{10}b_2 + w_{11}h_1 + w_{12}h_2 + w_{13}h_3 \\\\\n",
        "\\quad = w_{10} + w_{11}h_1 + w_{12}h_2 + w_{13}h_3 \\, ,\n",
        "$$"
      ]
    },
    {
      "cell_type": "markdown",
      "metadata": {
        "id": "iBzGWMK8sB3X"
      },
      "source": [
        "with,\n",
        "$$\n",
        "h_1 = f(\\alpha_1) \\, ,\\\\\n",
        "h_2 = f(\\alpha_2) \\, ,\\\\\n",
        "h_3 = f(\\alpha_3) \\, ,\\\\\n",
        "$$\n",
        "where\n",
        "$$ \n",
        "\\alpha_1 = w_1 + x_1 w_4 + x_2 w_7 \\, ,\\\\\n",
        "\\qquad \\alpha_2 = w_2 + x_1 w_5 + x_2 w_8 \\, \\text{, and}\\\\\n",
        "\\alpha_3 = w_3 + x_1 w_6 + x_2 w_9 \\, ,\\\\\n",
        "$$"
      ]
    },
    {
      "cell_type": "markdown",
      "metadata": {
        "id": "NJJXThQBs1Yg"
      },
      "source": [
        "where\n",
        "$$\n",
        "f(x) = \\frac{1}{1 + e^{-x}}\n",
        "$$\n",
        "Is the sigmoid activation function."
      ]
    },
    {
      "cell_type": "markdown",
      "metadata": {
        "id": "HclLi2Cmtwaf"
      },
      "source": [
        "To update our weights we take a step of length $\\eta$ in parameter space in the direction of the negative gradient, i.e\n",
        "$$\n",
        "\\mathbf{w}^{(t+1)} = \\mathbf{w}^{(t)} - \\eta\\frac{\\partial{}E}{\\partial{}\\mathbf{w}} \\quad ,\n",
        "$$\n",
        "where\n",
        "$$\n",
        "\\mathbf{w} = (w_1, w_2, ..., w_{13})\n",
        "$$\n",
        "Is our vector of weights. We therefore need to calculate the gradient\n",
        "$$\n",
        " \\frac{\\partial{}E}{\\partial{}\\mathbf{w}} = \\left(\\frac{\\partial{}E}{\\partial{}w_1}, \\frac{\\partial{}E}{\\partial{}w_2}, ..., \\frac{\\partial{}E}{\\partial{}w_{13}} \\right)\n",
        "$$"
      ]
    },
    {
      "cell_type": "markdown",
      "metadata": {
        "id": "tcW3Hy0mtkk8"
      },
      "source": [
        "We have:\n",
        "$$\n",
        "\\frac{\\partial{}E}{\\partial{}{w_1}} = \\frac{\\partial{}E}{\\partial{}{y_{\\textrm{pred}}}} \\frac{\\partial{}y_{\\textrm{pred}}}{\\partial{}{\\alpha_4}}\\frac{\\partial{}\\alpha_4}{\\partial{}{h_1}}\\frac{\\partial{}h_1}{\\partial{}{\\alpha_1}}\\frac{\\partial{}\\alpha}{\\partial{}{w_1}} \\\\\n",
        "= \\left[-(y-y_{\\textrm{pred}}) \\right]\\left[ y_{\\textrm{pred}}(1-y_{\\textrm{pred}})\\right]\\left[w_{11} \\right]\\left[ h_1(1-h_1)\\right]\\left[ 1\\right] \\\\\n",
        "= -(y-y_{\\textrm{pred}})y_{\\textrm{pred}}(1-y_{\\textrm{pred}}) w_{11} h_1(1-h_1)\n",
        "$$"
      ]
    },
    {
      "cell_type": "markdown",
      "metadata": {
        "id": "Exiu7qHEODx5"
      },
      "source": [
        "Similarly, we have:\n",
        "$$\n",
        "\\frac{\\partial{}E}{\\partial{}{w_2}} = -(y-y_{\\textrm{pred}})y_{\\textrm{pred}}(1-y_{\\textrm{pred}}) w_{12} h_2(1-h_2) \\\\\n",
        "\\frac{\\partial{}E}{\\partial{}{w_3}} = -(y-y_{\\textrm{pred}})y_{\\textrm{pred}}(1-y_{\\textrm{pred}}) w_{13} h_3(1-h_3) \\\\\n",
        "\\frac{\\partial{}E}{\\partial{}{w_4}} = -(y-y_{\\textrm{pred}})y_{\\textrm{pred}}(1-y_{\\textrm{pred}}) w_{11} h_1(1-h_1)x_1 \\\\\n",
        "\\frac{\\partial{}E}{\\partial{}{w_5}} = -(y-y_{\\textrm{pred}})y_{\\textrm{pred}}(1-y_{\\textrm{pred}}) w_{12} h_2(1-h_2)x_1 \\\\\n",
        "\\frac{\\partial{}E}{\\partial{}{w_6}} = -(y-y_{\\textrm{pred}})y_{\\textrm{pred}}(1-y_{\\textrm{pred}}) w_{13} h_3(1-h_3)x_1 \\\\\n",
        "\\frac{\\partial{}E}{\\partial{}{w_7}} = -(y-y_{\\textrm{pred}})y_{\\textrm{pred}}(1-y_{\\textrm{pred}}) w_{11} h_1(1-h_1)x_2 \\\\\n",
        "\\frac{\\partial{}E}{\\partial{}{w_8}} = -(y-y_{\\textrm{pred}})y_{\\textrm{pred}}(1-y_{\\textrm{pred}}) w_{12} h_2(1-h_2)x_2 \\\\\n",
        "\\frac{\\partial{}E}{\\partial{}{w_9}} = -(y-y_{\\textrm{pred}})y_{\\textrm{pred}}(1-y_{\\textrm{pred}}) w_{13} h_3(1-h_3)x_2 \\\\\n",
        "\\frac{\\partial{}E}{\\partial{}{w_{10}}} = -(y-y_{\\textrm{pred}})y_{\\textrm{pred}}(1-y_{\\textrm{pred}}) \\\\\n",
        "\\frac{\\partial{}E}{\\partial{}{w_{11}}} = -(y-y_{\\textrm{pred}})y_{\\textrm{pred}}(1-y_{\\textrm{pred}}) h_1 \\\\\n",
        "\\frac{\\partial{}E}{\\partial{}{w_{12}}} = -(y-y_{\\textrm{pred}})y_{\\textrm{pred}}(1-y_{\\textrm{pred}}) h_2\\\\\n",
        "\\frac{\\partial{}E}{\\partial{}{w_{13}}} = -(y-y_{\\textrm{pred}})y_{\\textrm{pred}}(1-y_{\\textrm{pred}})h_3 \\\\\n",
        "$$"
      ]
    },
    {
      "cell_type": "markdown",
      "metadata": {
        "id": "NuM4e0YhRYPZ"
      },
      "source": [
        "Now we can update the weights using:\n",
        "$$\n",
        "\\mathbf{w}^{(t+1)} = \\mathbf{w}^{(t)} - \\eta\\frac{\\partial{}E}{\\partial{}\\mathbf{w}} \\quad .\n",
        "$$"
      ]
    },
    {
      "cell_type": "markdown",
      "metadata": {
        "id": "zsFtzpumRbmG"
      },
      "source": [
        "## Question 2"
      ]
    },
    {
      "cell_type": "markdown",
      "metadata": {
        "id": "U57dxb2LnaMj"
      },
      "source": [
        "First, let's get the  data and split into training and testing sets. We chose a data split of 80 (training)/20 (testing). This leaves the majority of the data for training - making the training better, while still leaving enough to be confident in our testing."
      ]
    },
    {
      "cell_type": "code",
      "metadata": {
        "id": "oRLnZrCJSJNK"
      },
      "source": [
        "# put data into X and classifications into Y\n",
        "X = np.stack((x_1, x_2)).T\n",
        "y = classification.reshape((-1, 1))\n",
        "\n",
        "# normalise data to avoid saturation or dead neurons\n",
        "X_mean, X_std = (np.mean(X, axis=0), np.std(X, axis=0))\n",
        "x = (X - X_mean) / X_std\n",
        "\n",
        "# split into training and test sets:\n",
        "x_train, x_test, y_train, y_test = train_test_split(\n",
        "    X, y, test_size=0.2, random_state=0)\n",
        "\n",
        "\n",
        "# get sizes\n",
        "N, D_in = x_train.shape\n",
        "N, D_out = y_train.shape\n",
        "N_test, _ = x_test.shape\n",
        "\n",
        "H = 3\n",
        "\n",
        "# activation function\n",
        "sigmoid = lambda x: 1/(1 + np.exp(-x))"
      ],
      "execution_count": 6,
      "outputs": []
    },
    {
      "cell_type": "markdown",
      "metadata": {
        "id": "Q5dmZxd3ZK5p"
      },
      "source": [
        "we want to avoid saturation, or zeroed-out neurons. Since our data is (now) zero centered and unit variance, we initialise our weights as:\n",
        "$$\n",
        "w \\sim \\mathcal{N}\\left(0, 1\\right) \\quad .\n",
        "$$"
      ]
    },
    {
      "cell_type": "code",
      "metadata": {
        "id": "599R4gB0UHS5"
      },
      "source": [
        "# Weights for the bias terms in the hidden layer:\n",
        "w1, w2, w3 = np.random.randn(H) \n",
        "# Weights for x1 to all neurons.\n",
        "w4, w5, w6 = np.random.randn(H)\n",
        "# Weights for x2 to all neurons.\n",
        "w7, w8, w9 = np.random.randn(H)\n",
        "# Weights for hidden layer outputs to output neuron.\n",
        "w10, w11, w12, w13 = np.random.randn(H + 1)"
      ],
      "execution_count": 7,
      "outputs": []
    },
    {
      "cell_type": "markdown",
      "metadata": {
        "id": "tbTg21dCaOw3"
      },
      "source": [
        "Let's now define our network:"
      ]
    },
    {
      "cell_type": "code",
      "metadata": {
        "id": "UeSDDD9-BvCk"
      },
      "source": [
        "def forward_pass(x, w, N):\n",
        "  w1, w2, w3, w4, w5, w6, w7, w8, w9, w10, w11, w12, w13 = w\n",
        "  # Hidden layer.\n",
        "  hidden_layer_inputs = np.hstack([\n",
        "      np.ones((N, 1)),\n",
        "      x\n",
        "  ])\n",
        "  hidden_layer_weights = np.array([\n",
        "      [ w1,  w2,  w3],\n",
        "      [ w4,  w5,  w6],\n",
        "      [ w7,  w8,  w9]\n",
        "  ])\n",
        "\n",
        "\n",
        "  alpha_h = hidden_layer_inputs @ hidden_layer_weights\n",
        "  h = sigmoid(alpha_h)\n",
        "\n",
        "  # Output layer.\n",
        "  output_layer_inputs = np.hstack([\n",
        "      np.ones((N, 1)),\n",
        "      h\n",
        "  ])\n",
        "  output_layer_weights = np.array([\n",
        "      [w10, w11, w12, w13]\n",
        "  ]).T\n",
        "\n",
        "  alpha_4 = output_layer_inputs @ output_layer_weights\n",
        "  y_pred = sigmoid(alpha_4)\n",
        "\n",
        "  return h, y_pred"
      ],
      "execution_count": 8,
      "outputs": []
    },
    {
      "cell_type": "markdown",
      "metadata": {
        "id": "NRClof3UchaL"
      },
      "source": [
        "Now make a prediction, and calculate loss:"
      ]
    },
    {
      "cell_type": "code",
      "metadata": {
        "colab": {
          "base_uri": "https://localhost:8080/",
          "height": 0
        },
        "id": "ohc5-dcRdyJQ",
        "outputId": "3b43a573-4b11-4fc6-c41b-1af3a94a5c72"
      },
      "source": [
        "w = np.array([\n",
        "              w1, w2, w3, w4, w5, w6, w7,\n",
        "              w8, w9, w10, w11, w12, w13\n",
        "])\n",
        "# test training set\n",
        "h, y_pred = forward_pass(x_train, w, N)\n",
        "loss = 0.5 * np.sum((y_pred - y_train)**2)\n",
        "print(f\"Initial loss (training set): {loss:.1e}\")\n",
        "\n",
        "# test test set\n",
        "h, y_pred = forward_pass(x_test, w, N_test)\n",
        "loss = 0.5 * np.sum((y_pred - y_test)**2)\n",
        "print(f\"Initial loss (test set): {loss:.1e}\")"
      ],
      "execution_count": 9,
      "outputs": [
        {
          "output_type": "stream",
          "text": [
            "Initial loss (training set): 1.6e+01\n",
            "Initial loss (test set): 4.2e+00\n"
          ],
          "name": "stdout"
        },
        {
          "output_type": "stream",
          "text": [
            "/usr/local/lib/python3.7/dist-packages/ipykernel_launcher.py:22: RuntimeWarning: overflow encountered in exp\n"
          ],
          "name": "stderr"
        }
      ]
    },
    {
      "cell_type": "markdown",
      "metadata": {
        "id": "VMUBnPMkexEJ"
      },
      "source": [
        "To improve this, we optimise through back propogation:"
      ]
    },
    {
      "cell_type": "code",
      "metadata": {
        "id": "oDhGRqCQcdne"
      },
      "source": [
        "def back_prop(x, y, y_pred, w, h, eta):\n",
        "  w1, w2, w3, w4, w5, w6, w7, w8, w9, w10, w11, w12, w13 = w.flatten()\n",
        "  x1, x2 = x.T\n",
        "  h1, h2, h3 = h.T\n",
        "  \n",
        "  # dE/dAlpha\n",
        "  s = -(y - y_pred) * y_pred * (1- y_pred)\n",
        "  s = s.flatten()\n",
        "  dE_dw13 = s * h3\n",
        "  dE_dw12 = s * h2\n",
        "  dE_dw11 = s * h1\n",
        "  dE_dw10 = s\n",
        "  dE_dw9  = s * w13 * h3 * (1-h3) * x2\n",
        "  dE_dw8  = s * w12 * h2 * (1-h2) * x2\n",
        "  dE_dw7  = s * w11 * h1 * (1-h1) * x2\n",
        "  dE_dw6  = s * w13 * h3 * (1-h3) * x1\n",
        "  dE_dw5  = s * w12 * h2 * (1-h2) * x1\n",
        "  dE_dw4  = s * w11 * h1 * (1-h1) * x1\n",
        "  dE_dw3  = s * w13 * h3 * (1-h3)\n",
        "  dE_dw2  = s * w12 * h2 * (1-h2)\n",
        "  dE_dw1  = s * w11 * h1 * (1-h1)\n",
        "\n",
        "  grad_w = np.array([\n",
        "    dE_dw1, dE_dw2, dE_dw3, dE_dw4, dE_dw5, dE_dw6, dE_dw7,\n",
        "    dE_dw8, dE_dw9, dE_dw10, dE_dw11, dE_dw12, dE_dw13, \n",
        "  ])\n",
        "  \n",
        "  grad_w = np.sum(grad_w, axis=-1)\n",
        "\n",
        "  w_new = w - eta * grad_w\n",
        "\n",
        "  return w_new"
      ],
      "execution_count": 10,
      "outputs": []
    },
    {
      "cell_type": "markdown",
      "metadata": {
        "id": "mNA7XVVqu9No"
      },
      "source": [
        "first, let's check our derivatives"
      ]
    },
    {
      "cell_type": "code",
      "metadata": {
        "id": "BP27eaiBu7Lq"
      },
      "source": [
        "def f(p):\n",
        "  w1, w2, w3, w4, w5, w6, w7, w8, w9, w10, w11, w12, w13 = p\n",
        "  # Hidden layer.\n",
        "  hidden_layer_inputs = np.hstack([\n",
        "      np.ones((N, 1)),\n",
        "      x_train\n",
        "  ])\n",
        "  hidden_layer_weights = np.array([\n",
        "      [ w1,  w2,  w3],\n",
        "      [ w4,  w5,  w6],\n",
        "      [ w7,  w8,  w9]\n",
        "  ])\n",
        "\n",
        "\n",
        "  alpha_h = hidden_layer_inputs @ hidden_layer_weights\n",
        "  h = sigmoid(alpha_h)\n",
        "\n",
        "  # Output layer.\n",
        "  output_layer_inputs = np.hstack([\n",
        "      np.ones((N, 1)),\n",
        "      h\n",
        "  ])\n",
        "  output_layer_weights = np.array([\n",
        "      [w10, w11, w12, w13]\n",
        "  ]).T\n",
        "\n",
        "  alpha_4 = output_layer_inputs @ output_layer_weights\n",
        "  y_pred = sigmoid(alpha_4)\n",
        "\n",
        "  return 0.5 * np.sum((y_pred - y_train)**2)\n",
        "\n",
        "def g(p):\n",
        "  w1, w2, w3, w4, w5, w6, w7, w8, w9, w10, w11, w12, w13 = p\n",
        "  # Hidden layer.\n",
        "  hidden_layer_inputs = np.hstack([\n",
        "      np.ones((N, 1)),\n",
        "      x_train\n",
        "  ])\n",
        "  hidden_layer_weights = np.array([\n",
        "      [ w1,  w2,  w3],\n",
        "      [ w4,  w5,  w6],\n",
        "      [ w7,  w8,  w9]\n",
        "  ])\n",
        "\n",
        "\n",
        "  alpha_h = hidden_layer_inputs @ hidden_layer_weights\n",
        "  h = sigmoid(alpha_h)\n",
        "\n",
        "  # Output layer.\n",
        "  output_layer_inputs = np.hstack([\n",
        "      np.ones((N, 1)),\n",
        "      h\n",
        "  ])\n",
        "  output_layer_weights = np.array([\n",
        "      [w10, w11, w12, w13]\n",
        "  ]).T\n",
        "\n",
        "  alpha_4 = output_layer_inputs @ output_layer_weights\n",
        "  y_pred = sigmoid(alpha_4)\n",
        "\n",
        "  w1, w2, w3, w4, w5, w6, w7, w8, w9, w10, w11, w12, w13 = p\n",
        "  x1, x2 = x_train.T\n",
        "  h1, h2, h3 = h.T\n",
        "  \n",
        "  # dE/dAlpha\n",
        "  s = -(y_train - y_pred) * y_pred * (1- y_pred)\n",
        "  s = s.flatten()\n",
        "  # derivatives\n",
        "  dE_dw13 = s * h3\n",
        "  dE_dw12 = s * h2\n",
        "  dE_dw11 = s * h1\n",
        "  dE_dw10 = s\n",
        "  dE_dw9  = s * w13 * h3 * (1-h3) * x2\n",
        "  dE_dw8  = s * w12 * h2 * (1-h2) * x2\n",
        "  dE_dw7  = s * w11 * h1 * (1-h1) * x2\n",
        "  dE_dw6  = s * w13 * h3 * (1-h3) * x1\n",
        "  dE_dw5  = s * w12 * h2 * (1-h2) * x1\n",
        "  dE_dw4  = s * w11 * h1 * (1-h1) * x1\n",
        "  dE_dw3  = s * w13 * h3 * (1-h3)\n",
        "  dE_dw2  = s * w12 * h2 * (1-h2)\n",
        "  dE_dw1  = s * w11 * h1 * (1-h1)\n",
        "\n",
        "  grad_w = np.array([\n",
        "    dE_dw1, dE_dw2, dE_dw3, dE_dw4, dE_dw5, dE_dw6, dE_dw7,\n",
        "    dE_dw8, dE_dw9, dE_dw10, dE_dw11, dE_dw12, dE_dw13, \n",
        "  ])\n",
        "  \n",
        "  grad_w = np.sum(grad_w, axis=-1).reshape((-1, 1))\n",
        "\n",
        "  return grad_w.flatten()"
      ],
      "execution_count": 11,
      "outputs": []
    },
    {
      "cell_type": "code",
      "metadata": {
        "colab": {
          "base_uri": "https://localhost:8080/",
          "height": 0
        },
        "id": "BwEJDYuJBQ30",
        "outputId": "a5860954-f55e-4a6d-e6c2-aee1deec2a36"
      },
      "source": [
        "check_grad(f, g, np.random.normal(size=13))"
      ],
      "execution_count": 12,
      "outputs": [
        {
          "output_type": "stream",
          "text": [
            "/usr/local/lib/python3.7/dist-packages/ipykernel_launcher.py:22: RuntimeWarning: overflow encountered in exp\n"
          ],
          "name": "stderr"
        },
        {
          "output_type": "execute_result",
          "data": {
            "text/plain": [
              "8.523521138177826e-06"
            ]
          },
          "metadata": {
            "tags": []
          },
          "execution_count": 12
        }
      ]
    },
    {
      "cell_type": "markdown",
      "metadata": {
        "id": "gNnOmYn9-3eh"
      },
      "source": [
        "So it looks reasonable, error is less than $10^{-5}$."
      ]
    },
    {
      "cell_type": "markdown",
      "metadata": {
        "id": "u8NHCB5PBMwk"
      },
      "source": [
        "We now train our network. I've choosen to train for $10^5$ epochs with a learning rate of $\\eta = 10^{-4}$. Since our network is very small, we should still be able to get through training fast - even with $10^5$ epochs. Since we have so many epochs, even with a small learning rate we will still be able to traverse adequate distance in parameter space (considering also that we have a very small network) while hopefully avoiding 'over-shooting' a minima in the loss function."
      ]
    },
    {
      "cell_type": "code",
      "metadata": {
        "colab": {
          "base_uri": "https://localhost:8080/",
          "height": 0
        },
        "id": "qMunIC-ARQCq",
        "outputId": "89827e13-ccf7-4122-ea59-e5c6a8398734"
      },
      "source": [
        "num_epochs = 100000\n",
        "train_losses = np.empty(num_epochs)\n",
        "test_losses = np.empty(num_epochs)\n",
        "\n",
        "eta = 1e-4\n",
        "for epoch in range(num_epochs):\n",
        "    # forward pass\n",
        "    h, y_pred_train = forward_pass(x_train, w, N)\n",
        "    _, y_pred_test = forward_pass(x_test, w, N_test)\n",
        "\n",
        "    # loss\n",
        "    train_loss = 0.5 * np.sum((y_pred_train - y_train)**2)\n",
        "    test_loss = 0.5 * np.sum((y_pred_test - y_test)**2)\n",
        "\n",
        "\n",
        "\n",
        "    # updates\n",
        "    if not epoch % 1000:\n",
        "        print(f\"\\rEpoch: {epoch: >5}, Training loss: {train_loss:3.1e}, Test loss: {test_loss:3.1e}\", end='')\n",
        "    train_losses[epoch] = train_loss\n",
        "    test_losses[epoch] = test_loss\n",
        "\n",
        "    # back prop\n",
        "    w = back_prop(x_train, y_train, y_pred_train, w, h, eta)"
      ],
      "execution_count": 13,
      "outputs": [
        {
          "output_type": "stream",
          "text": [
            "/usr/local/lib/python3.7/dist-packages/ipykernel_launcher.py:22: RuntimeWarning: overflow encountered in exp\n"
          ],
          "name": "stderr"
        },
        {
          "output_type": "stream",
          "text": [
            "Epoch: 99000, Training loss: 6.7e+00, Test loss: 1.9e+00"
          ],
          "name": "stdout"
        }
      ]
    },
    {
      "cell_type": "markdown",
      "metadata": {
        "id": "9tfDewTaAfVK"
      },
      "source": [
        "Plotting the loss, we get the following:"
      ]
    },
    {
      "cell_type": "code",
      "metadata": {
        "id": "YtMOig2_WBGz",
        "colab": {
          "base_uri": "https://localhost:8080/",
          "height": 581
        },
        "outputId": "296fd9a1-c2d3-4bb9-8a9e-1dd74d60104e"
      },
      "source": [
        "fig, axs = plt.subplots(1, 2, figsize=(16, 8))\n",
        "\n",
        "for i, ax in enumerate(axs):\n",
        "  if i ==0:\n",
        "    losses = train_losses\n",
        "    title = \"Training loss\"\n",
        "  else:\n",
        "    losses = test_losses\n",
        "    title = \"Test loss\"\n",
        "  ax.plot(losses, c='k')\n",
        "  ax.set_xlabel(\"Epoch\")\n",
        "  ax.set_ylabel(\"Loss\")\n",
        "  ax.set_title(title)\n",
        "  ax.xaxis.set_major_locator(MaxNLocator(6))\n",
        "  ax.yaxis.set_major_locator(MaxNLocator(6))\n",
        "fig.tight_layout()"
      ],
      "execution_count": 14,
      "outputs": [
        {
          "output_type": "display_data",
          "data": {
            "image/png": "[encoded data removed]",
            "text/plain": [
              "<Figure size 1152x576 with 2 Axes>"
            ]
          },
          "metadata": {
            "tags": [],
            "needs_background": "light"
          }
        }
      ]
    },
    {
      "cell_type": "markdown",
      "metadata": {
        "id": "5u3FeKZtFd3C"
      },
      "source": [
        "## Question 3"
      ]
    },
    {
      "cell_type": "markdown",
      "metadata": {
        "id": "irPydMut9kAb"
      },
      "source": [
        "We now implement the same model using pytorch:"
      ]
    },
    {
      "cell_type": "code",
      "metadata": {
        "colab": {
          "base_uri": "https://localhost:8080/",
          "height": 0
        },
        "id": "ZvKxwB8kFfJX",
        "outputId": "11540167-70ea-4b78-a9f1-b9a8ae43c9e8"
      },
      "source": [
        "x_train = torch.tensor(x_train, dtype=torch.float32)\n",
        "y_train = torch.tensor(y_train, dtype=torch.float32)\n",
        "\n",
        "x_test = torch.tensor(x_test, dtype=torch.float32)\n",
        "y_test = torch.tensor(y_test, dtype=torch.float32)\n",
        "\n",
        "# Construct the model.\n",
        "model = torch.nn.Sequential(\n",
        "    torch.nn.Linear(D_in, H),\n",
        "    torch.nn.Sigmoid(),\n",
        "    torch.nn.Linear(H, D_out),\n",
        "    torch.nn.Sigmoid(),\n",
        ")\n",
        "\n",
        "loss_fn = torch.nn.MSELoss(reduction='sum')\n",
        "\n",
        "epochs = 100000\n",
        "learning_rate = 1e-4\n",
        "\n",
        "train_losses = np.empty(epochs)\n",
        "test_losses = np.empty(epochs)\n",
        "for t in range(epochs):\n",
        "    # Forward pass.\n",
        "    y_pred = model(x_train)\n",
        "    y_pred_test = model(x_test)\n",
        "\n",
        "    # Compute loss.\n",
        "    train_loss = loss_fn(y_pred, y_train)\n",
        "    test_loss = loss_fn(y_pred_test, y_test)\n",
        "    if t % 100 == 99:\n",
        "        print(f\"\\rEpoch: {t: >5}, Training loss: {train_loss.item():3.1e}, Test loss: {test_loss.item():3.1e}\", end='')\n",
        "    train_losses[t] = train_loss.item()\n",
        "    test_losses[t] = test_loss.item()\n",
        "\n",
        "\n",
        "    # Zero the gradients before running the backward pass.\n",
        "    model.zero_grad()\n",
        "\n",
        "    # Backward pass.\n",
        "    train_loss.backward()\n",
        "\n",
        "    # Update the weights using gradient descent.\n",
        "    with torch.no_grad():\n",
        "        for param in model.parameters():\n",
        "            param -= learning_rate * param.grad"
      ],
      "execution_count": 15,
      "outputs": [
        {
          "output_type": "stream",
          "text": [
            "Epoch: 99999, Training loss: 1.4e+01, Test loss: 3.8e+00"
          ],
          "name": "stdout"
        }
      ]
    },
    {
      "cell_type": "markdown",
      "metadata": {
        "id": "LQLQ-jKh9pjP"
      },
      "source": [
        "Plotting the losses, we get the following:"
      ]
    },
    {
      "cell_type": "code",
      "metadata": {
        "id": "vU_3xK4bF8JH",
        "colab": {
          "base_uri": "https://localhost:8080/",
          "height": 581
        },
        "outputId": "540bd8dd-45b6-4f0a-f9c2-d2a13c73ebe2"
      },
      "source": [
        "fig, axs = plt.subplots(1, 2, figsize=(16, 8))\n",
        "\n",
        "for i, ax in enumerate(axs):\n",
        "  if i ==0:\n",
        "    losses = train_losses\n",
        "    title = \"Training loss\"\n",
        "  else:\n",
        "    losses = test_losses\n",
        "    title = \"Test loss\"\n",
        "  ax.plot(losses, c='k')\n",
        "  ax.set_xlabel(\"Epoch\")\n",
        "  ax.set_ylabel(\"Loss\")\n",
        "  ax.set_title(title)\n",
        "  ax.xaxis.set_major_locator(MaxNLocator(6))\n",
        "  ax.yaxis.set_major_locator(MaxNLocator(6))\n",
        "fig.tight_layout()"
      ],
      "execution_count": 16,
      "outputs": [
        {
          "output_type": "display_data",
          "data": {
            "image/png": "[encoded data removed]",
            "text/plain": [
              "<Figure size 1152x576 with 2 Axes>"
            ]
          },
          "metadata": {
            "tags": [],
            "needs_background": "light"
          }
        }
      ]
    },
    {
      "cell_type": "markdown",
      "metadata": {
        "id": "W-6UBqKpHBlr"
      },
      "source": [
        "## Question 4"
      ]
    },
    {
      "cell_type": "markdown",
      "metadata": {
        "id": "USjJaDK42c4m"
      },
      "source": [
        "> 1. The training loss is decreasing with epoch but the test loss is unchanged, maybe even increasing.\n",
        "\n"
      ]
    },
    {
      "cell_type": "markdown",
      "metadata": {
        "id": "4CQIp7iO3EOV"
      },
      "source": [
        "It is likely that the model is 'overfitting' the data. To resolve this either simplify your model - less neurons/less layers, get more data or use dropout or some other regularisation."
      ]
    },
    {
      "cell_type": "markdown",
      "metadata": {
        "id": "7oz9IwIr2tCD"
      },
      "source": [
        "> 2. The training loss is decreasing, but so slowly that it is going to take a lifetime to train!"
      ]
    },
    {
      "cell_type": "markdown",
      "metadata": {
        "id": "Hmj1DGms3278"
      },
      "source": [
        "Most likely the learning rate is too small (if the network is just running slow, it is also possible that the model is either too large, i.e. too many neurons, or the batch size is too large). Therefore you should try (probably in this order) to 1. increase the learning rate, 2. decrease the batch size, 3. decrease the size of the model."
      ]
    },
    {
      "cell_type": "markdown",
      "metadata": {
        "id": "KvegBigO2v09"
      },
      "source": [
        "> 3. The training and test loss is increasing!"
      ]
    },
    {
      "cell_type": "markdown",
      "metadata": {
        "id": "T-LXdl9w5Ccg"
      },
      "source": [
        "It is likely that the learning rate is too high and we cant 'desend' to a lower loss. In this case simply set a lower learning rate."
      ]
    },
    {
      "cell_type": "markdown",
      "metadata": {
        "id": "1Zhy5DGf25j-"
      },
      "source": [
        "> 4. I've run for 1,000 epochs and the training loss is exactly the same as it was in the first epoch."
      ]
    },
    {
      "cell_type": "markdown",
      "metadata": {
        "id": "-EmbklHb6WlB"
      },
      "source": [
        "This could be caused by zeroed out neurons or over saturated neurons. In either case you should inspect the weight initialisations (maybe see [this](http://astrowizici.st/teaching/phs5000/14/) for some hints)."
      ]
    },
    {
      "cell_type": "markdown",
      "metadata": {
        "id": "dXGiVFIV27ak"
      },
      "source": [
        "> 5. The training loss has decreased, and the test loss has decreased, but the test loss has not decreased as much as the training loss. Is there something I could do to improve the network predictions in a generalised way so it performs better on unseen data?"
      ]
    },
    {
      "cell_type": "markdown",
      "metadata": {
        "id": "KgUQac1a6qmn"
      },
      "source": [
        "Get more data - either literally or artificially through data augmentation. In the case of a convolutional neural network, this could be done by flipping images (left to right, up to down), inverting the colour scheme of the image, adding noise (without distortion), or rotating them (be careful, as rotation by an arbitrary angle could cause the network to learn the resulting interpolation artifacts)."
      ]
    }
  ]
}